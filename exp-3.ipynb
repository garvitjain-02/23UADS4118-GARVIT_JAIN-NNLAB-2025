{
 "cells": [
  {
   "cell_type": "markdown",
   "id": "c2832108-8000-4887-901e-f1463932d2b6",
   "metadata": {},
   "source": [
    "## WAP to implement a three-layer neural network using Tensor flow library (only, no keras) to classify MNIST handwritten digits dataset. Demonstrate the implementation of feed-forward and back-propagation approaches. "
   ]
  },
  {
   "cell_type": "markdown",
   "id": "01a594cc-61c5-471e-a131-fcceb1e014d0",
   "metadata": {},
   "source": [
    "### This code implements a three-layer neural network using TensorFlow (without Keras) to classify handwritten digits from the MNIST dataset. The network consists of an input layer, two hidden layers, and an output layer. It demonstrates feed-forward and backpropagation for training. Below is a detailed breakdown:"
   ]
  },
  {
   "cell_type": "markdown",
   "id": "9d4ea2de-08e5-4427-8fe8-14acd14c0cf3",
   "metadata": {},
   "source": [
    "#### 1. Importing Required Libraries\n",
    "- Tensorflow is used for defining and training the neural network.\n",
    "- Numpy is imported but not directly used (TensorFlow internally uses NumPy).\n",
    "- Input_data is used to load the MNIST dataset."
   ]
  },
  {
   "cell_type": "markdown",
   "id": "b6ae2786-5a3c-49e3-a826-92af9d2913b0",
   "metadata": {},
   "source": [
    "#### 2. Loading the MNIST Dataset\n",
    "- Downloads the MNIST dataset if not already available.\n",
    "- Uses one-hot encoding (e.g., digit 3 is represented as [0, 0, 0, 1, 0, 0, 0, 0, 0, 0]).\n",
    "\n",
    "#### 3. Defining Network Parameters\n",
    "- Each image is 28x28 pixels, which is flattened into a 784-dimensional vector.\n",
    "- n_hidden1 = 128 and n_hidden2 = 64: Two hidden layers with 128 and 64 neurons respectively.\n",
    "- n_output = 10: The network outputs 10 probabilities (one for each digit).\n",
    "- learning_rate = 0.01: Step size for weight updates.\n",
    "- n_epochs = 10: Number of times the model sees the whole dataset.\n",
    "- batch_size = 100: Number of images processed per training step.\n",
    "\n",
    "#### 4. Defining Placeholders for Inputs and Outputs\n",
    "- X: Placeholder for input images (shape: [None, 784], where None is the batch size).\n",
    "- Y: Placeholder for one-hot encoded labels (shape: [None, 10]).\n",
    "#### 5. Initializing Weights and Biases\n",
    "- Weights (weights): Connects each layer to the next. Initialized with small random values to break symmetry.\n",
    "- Biases (biases):Added to neurons to avoid zero outputs.Initialized to zeros.\n",
    "#### 6. Defining the Feed-Forward Neural Network\n",
    "#### How It Works?\n",
    "- First Hidden Layer:\n",
    "layer1 = tf.matmul(X, weights['h1']) + biases['b1']\n",
    "Activation: ReLU (tf.nn.relu)\n",
    "- Second Hidden Layer:\n",
    "layer2 = tf.matmul(layer1, weights['h2']) + biases['b2']\n",
    "Activation: ReLU\n",
    "- Output Layer:\n",
    "output_layer = tf.matmul(layer2, weights['out']) + biases['out']\n",
    "- No activation function because we use softmax in loss calculation.\n",
    "#### 7. Computing Predictions and Loss Function\n",
    "- logits: Output of the neural network.\n",
    "- Loss function: Softmax Cross-Entropy (compares predicted probabilities with actual labels).\n",
    "#### 8. Optimizer for Backpropagation\n",
    "- Uses Adam optimizer, which adapts the learning rate dynamically for better convergence.\n",
    "#### 9. Defining Model Accuracy\n",
    "- tf.argmax(logits, 1): Gets the predicted class.\n",
    "- tf.argmax(Y, 1): Gets the actual class.\n",
    "- tf.equal(...): Compares the two.\n",
    "- tf.reduce_mean(...): Computes overall accuracy.\n",
    "#### 10. Initializing Variables\n",
    "- Initializes TensorFlow variables before training.\n",
    "#### 11. Training the Model\n",
    "- Training Process\n",
    "sess.run(init): Initializes all variables.\n",
    "Loop over n_epochs:\n",
    "For each batch:\n",
    "Get a random batch of 100 images.\n",
    "Perform backpropagation using sess.run([optimizer, loss]).\n",
    "Compute the average loss.\n",
    "Compute training accuracy after each epoch.\n",
    "- Test Accuracy Calculation:\n",
    "After training, evaluates model performance on the test set.\n",
    "- Final Output\n",
    "After training, the program prints:\n",
    "\n",
    "Loss for each epoch.\n",
    "Training Accuracy.\n",
    "Final Test Accuracy (to measure real performance)."
   ]
  },
  {
   "cell_type": "markdown",
   "id": "ab8cb3cc-fdb7-4233-b543-f1f240166b4c",
   "metadata": {},
   "source": [
    "import tensorflow as tf\n",
    "import numpy as np\n",
    "from tensorflow.examples.tutorials.mnist import input_data"
   ]
  },
  {
   "cell_type": "code",
   "execution_count": null,
   "id": "939dcee7-9318-40a4-946e-23894889937e",
   "metadata": {},
   "outputs": [],
   "source": [
    "# Load MNIST data\n",
    "mnist = input_data.read_data_sets(\"MNIST_data/\", one_hot=True)"
   ]
  },
  {
   "cell_type": "code",
   "execution_count": null,
   "id": "e1b77ce6-a571-4b65-8677-ec30e14a0e48",
   "metadata": {},
   "outputs": [],
   "source": [
    "# Define network parameters\n",
    "n_input = 784  # 28x28 pixels\n",
    "n_hidden1 = 128  # First hidden layer neurons\n",
    "n_hidden2 = 64   # Second hidden layer neurons\n",
    "n_output = 10    # 10 classes (digits 0-9)\n",
    "learning_rate = 0.01\n",
    "n_epochs = 10\n",
    "batch_size = 100"
   ]
  },
  {
   "cell_type": "code",
   "execution_count": null,
   "id": "e35343a2-7a89-45ac-b2cb-7333a41b90b5",
   "metadata": {},
   "outputs": [],
   "source": [
    "# Define placeholders\n",
    "X = tf.placeholder(tf.float32, [None, n_input])\n",
    "Y = tf.placeholder(tf.float32, [None, n_output])\n",
    "\n",
    "# Initialize weights and biases\n",
    "weights = {\n",
    "    'h1': tf.Variable(tf.random_normal([n_input, n_hidden1])),\n",
    "    'h2': tf.Variable(tf.random_normal([n_hidden1, n_hidden2])),\n",
    "    'out': tf.Variable(tf.random_normal([n_hidden2, n_output]))\n",
    "}\n",
    "\n",
    "biases = {\n",
    "    'b1': tf.Variable(tf.zeros([n_hidden1])),\n",
    "    'b2': tf.Variable(tf.zeros([n_hidden2])),\n",
    "    'out': tf.Variable(tf.zeros([n_output]))\n",
    "}\n",
    "\n",
    "# Define the neural network model\n",
    "def neural_network(x):\n",
    "    layer1 = tf.add(tf.matmul(x, weights['h1']), biases['b1'])\n",
    "    layer1 = tf.nn.relu(layer1)\n",
    "    \n",
    "    layer2 = tf.add(tf.matmul(layer1, weights['h2']), biases['b2'])\n",
    "    layer2 = tf.nn.relu(layer2)\n",
    "    \n",
    "    output_layer = tf.add(tf.matmul(layer2, weights['out']), biases['out'])\n",
    "    return output_layer\n",
    "\n",
    "# Compute predictions and loss\n",
    "logits = neural_network(X)\n",
    "loss = tf.reduce_mean(tf.nn.softmax_cross_entropy_with_logits_v2(logits=logits, labels=Y))\n",
    "\n",
    "# Define optimizer for backpropagation\n",
    "optimizer = tf.train.AdamOptimizer(learning_rate).minimize(loss)\n",
    "\n",
    "# Evaluate accuracy\n",
    "correct_pred = tf.equal(tf.argmax(logits, 1), tf.argmax(Y, 1))\n",
    "accuracy = tf.reduce_mean(tf.cast(correct_pred, tf.float32))\n",
    "\n",
    "# Initialize variables\n",
    "init = tf.global_variables_initializer()"
   ]
  },
  {
   "cell_type": "code",
   "execution_count": null,
   "id": "e4985319-6887-455c-aedf-fb2007d64831",
   "metadata": {},
   "outputs": [],
   "source": [
    "# Train the model\n",
    "with tf.Session() as sess:\n",
    "    sess.run(init)\n",
    "    \n",
    "    for epoch in range(n_epochs):\n",
    "        total_batch = int(mnist.train.num_examples / batch_size)\n",
    "        avg_loss = 0\n",
    "        \n",
    "        for _ in range(total_batch):\n",
    "            batch_x, batch_y = mnist.train.next_batch(batch_size)\n",
    "            _, batch_loss = sess.run([optimizer, loss], feed_dict={X: batch_x, Y: batch_y})\n",
    "            avg_loss += batch_loss / total_batch\n",
    "        \n",
    "        train_acc = sess.run(accuracy, feed_dict={X: mnist.train.images, Y: mnist.train.labels})\n",
    "        print(f\"Epoch {epoch + 1}, Loss: {avg_loss:.4f}, Training Accuracy: {train_acc:.4f}\")\n",
    "    \n",
    "    # Test accuracy\n",
    "    test_acc = sess.run(accuracy, feed_dict={X: mnist.test.images, Y: mnist.test.labels})\n",
    "    print(f\"Test Accuracy: {test_acc:.4f}\")"
   ]
  },
  {
   "cell_type": "code",
   "execution_count": null,
   "id": "16f1bf0d-49b6-4061-9313-2d7398463db4",
   "metadata": {},
   "outputs": [],
   "source": []
  },
  {
   "cell_type": "code",
   "execution_count": null,
   "id": "98e4c02a-5cab-4cc2-a2a5-bb4eada2b7b1",
   "metadata": {},
   "outputs": [],
   "source": []
  }
 ],
 "metadata": {
  "kernelspec": {
   "display_name": "Python 3 (ipykernel)",
   "language": "python",
   "name": "python3"
  },
  "language_info": {
   "codemirror_mode": {
    "name": "ipython",
    "version": 3
   },
   "file_extension": ".py",
   "mimetype": "text/x-python",
   "name": "python",
   "nbconvert_exporter": "python",
   "pygments_lexer": "ipython3",
   "version": "3.12.4"
  }
 },
 "nbformat": 4,
 "nbformat_minor": 5
}
