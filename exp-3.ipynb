{
 "cells": [
  {
   "cell_type": "code",
   "execution_count": null,
   "id": "a7851b03-3c27-45eb-add8-a046c049cd37",
   "metadata": {},
   "outputs": [],
   "source": [
    "import tensorflow as tf\n",
    "import numpy as np\n",
    "from tensorflow.examples.tutorials.mnist import input_data"
   ]
  },
  {
   "cell_type": "code",
   "execution_count": null,
   "id": "bb10c1ff-2220-45db-98a7-d844c912ebf4",
   "metadata": {},
   "outputs": [],
   "source": [
    "# Load MNIST data\n",
    "mnist = input_data.read_data_sets(\"MNIST_data/\", one_hot=True)"
   ]
  },
  {
   "cell_type": "code",
   "execution_count": null,
   "id": "f82983b4-4868-4188-adfe-13251649f3a0",
   "metadata": {},
   "outputs": [],
   "source": [
    "# Define network parameters\n",
    "n_input = 784  # 28x28 pixels\n",
    "n_hidden1 = 128  # First hidden layer neurons\n",
    "n_hidden2 = 64   # Second hidden layer neurons\n",
    "n_output = 10    # 10 classes (digits 0-9)\n",
    "learning_rate = 0.01\n",
    "n_epochs = 10\n",
    "batch_size = 100"
   ]
  },
  {
   "cell_type": "code",
   "execution_count": null,
   "id": "f1676973-bcb2-4c9b-a814-02f6c0b85115",
   "metadata": {},
   "outputs": [],
   "source": [
    "# Define placeholders\n",
    "X = tf.placeholder(tf.float32, [None, n_input])\n",
    "Y = tf.placeholder(tf.float32, [None, n_output])\n",
    "\n",
    "# Initialize weights and biases\n",
    "weights = {\n",
    "    'h1': tf.Variable(tf.random_normal([n_input, n_hidden1])),\n",
    "    'h2': tf.Variable(tf.random_normal([n_hidden1, n_hidden2])),\n",
    "    'out': tf.Variable(tf.random_normal([n_hidden2, n_output]))\n",
    "}\n",
    "\n",
    "biases = {\n",
    "    'b1': tf.Variable(tf.zeros([n_hidden1])),\n",
    "    'b2': tf.Variable(tf.zeros([n_hidden2])),\n",
    "    'out': tf.Variable(tf.zeros([n_output]))\n",
    "}\n",
    "\n",
    "# Define the neural network model\n",
    "def neural_network(x):\n",
    "    layer1 = tf.add(tf.matmul(x, weights['h1']), biases['b1'])\n",
    "    layer1 = tf.nn.relu(layer1)\n",
    "    \n",
    "    layer2 = tf.add(tf.matmul(layer1, weights['h2']), biases['b2'])\n",
    "    layer2 = tf.nn.relu(layer2)\n",
    "    \n",
    "    output_layer = tf.add(tf.matmul(layer2, weights['out']), biases['out'])\n",
    "    return output_layer\n",
    "\n",
    "# Compute predictions and loss\n",
    "logits = neural_network(X)\n",
    "loss = tf.reduce_mean(tf.nn.softmax_cross_entropy_with_logits_v2(logits=logits, labels=Y))\n",
    "\n",
    "# Define optimizer for backpropagation\n",
    "optimizer = tf.train.AdamOptimizer(learning_rate).minimize(loss)\n",
    "\n",
    "# Evaluate accuracy\n",
    "correct_pred = tf.equal(tf.argmax(logits, 1), tf.argmax(Y, 1))\n",
    "accuracy = tf.reduce_mean(tf.cast(correct_pred, tf.float32))\n",
    "\n",
    "# Initialize variables\n",
    "init = tf.global_variables_initializer()"
   ]
  },
  {
   "cell_type": "code",
   "execution_count": null,
   "id": "0cba57c9-e991-4547-8b4d-956309d37d79",
   "metadata": {},
   "outputs": [],
   "source": [
    "# Train the model\n",
    "with tf.Session() as sess:\n",
    "    sess.run(init)\n",
    "    \n",
    "    for epoch in range(n_epochs):\n",
    "        total_batch = int(mnist.train.num_examples / batch_size)\n",
    "        avg_loss = 0\n",
    "        \n",
    "        for _ in range(total_batch):\n",
    "            batch_x, batch_y = mnist.train.next_batch(batch_size)\n",
    "            _, batch_loss = sess.run([optimizer, loss], feed_dict={X: batch_x, Y: batch_y})\n",
    "            avg_loss += batch_loss / total_batch\n",
    "        \n",
    "        train_acc = sess.run(accuracy, feed_dict={X: mnist.train.images, Y: mnist.train.labels})\n",
    "        print(f\"Epoch {epoch + 1}, Loss: {avg_loss:.4f}, Training Accuracy: {train_acc:.4f}\")\n",
    "    \n",
    "    # Test accuracy\n",
    "    test_acc = sess.run(accuracy, feed_dict={X: mnist.test.images, Y: mnist.test.labels})\n",
    "    print(f\"Test Accuracy: {test_acc:.4f}\")"
   ]
  },
  {
   "cell_type": "code",
   "execution_count": null,
   "id": "7586b27b-5a6c-4ae9-a96d-f1a1dd314d03",
   "metadata": {},
   "outputs": [],
   "source": []
  },
  {
   "cell_type": "code",
   "execution_count": null,
   "id": "1eb49100-4b9e-4239-8e33-617fb19a76fd",
   "metadata": {},
   "outputs": [],
   "source": []
  }
 ],
 "metadata": {
  "kernelspec": {
   "display_name": "Python 3 (ipykernel)",
   "language": "python",
   "name": "python3"
  },
  "language_info": {
   "codemirror_mode": {
    "name": "ipython",
    "version": 3
   },
   "file_extension": ".py",
   "mimetype": "text/x-python",
   "name": "python",
   "nbconvert_exporter": "python",
   "pygments_lexer": "ipython3",
   "version": "3.12.4"
  }
 },
 "nbformat": 4,
 "nbformat_minor": 5
}
